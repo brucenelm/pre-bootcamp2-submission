{
 "cells": [
  {
   "cell_type": "markdown",
   "metadata": {},
   "source": [
    "Printing \"Hello, World!\""
   ]
  },
  {
   "cell_type": "code",
   "execution_count": 1,
   "metadata": {},
   "outputs": [
    {
     "name": "stdout",
     "output_type": "stream",
     "text": [
      "Hello, World!\n"
     ]
    }
   ],
   "source": [
    "print(\"Hello, World!\")"
   ]
  },
  {
   "cell_type": "markdown",
   "metadata": {},
   "source": [
    "Task\n",
    "Given an integer, , perform the following conditional actions:\n",
    "\n",
    "If  is odd, print Weird\n",
    "If  is even and in the inclusive range 2 of to 5 , print Not Weird\n",
    "If  is even and in the inclusive range  6 of  to 20 , print Weird\n",
    "If  is even and greater than , print Not Weird"
   ]
  },
  {
   "cell_type": "code",
   "execution_count": 6,
   "metadata": {},
   "outputs": [
    {
     "name": "stdout",
     "output_type": "stream",
     "text": [
      "Not Weird\n"
     ]
    }
   ],
   "source": [
    "n=24\n",
    "if n%2 == 1:\n",
    "    print(\"Weird\")\n",
    "        \n",
    "else:\n",
    "    if n>=2 and n<=5:\n",
    "        print(\"Not Weird\")\n",
    "    elif n>=6 and n <= 20:\n",
    "        print(\"Weird\")\n",
    "        \n",
    "    elif n>20:\n",
    "        print(\"Not Weird\")\n",
    "            "
   ]
  },
  {
   "cell_type": "markdown",
   "metadata": {},
   "source": [
    "**Task**\n",
    "\n",
    "Read two integers from STDIN and print three lines where:\n",
    "\n",
    "The first line contains the sum of the two numbers.\n",
    "The second line contains the difference of the two numbers (first - second).\n",
    "The third line contains the product of the two numbers."
   ]
  },
  {
   "cell_type": "code",
   "execution_count": 10,
   "metadata": {},
   "outputs": [
    {
     "name": "stdout",
     "output_type": "stream",
     "text": [
      "Enter the First Number 7\n",
      "Enter the second Nunber 8\n",
      "15\n",
      "-1\n",
      "56\n"
     ]
    }
   ],
   "source": [
    "a = int(input(\"Enter the First Number \"))\n",
    "b = int(input(\"Enter the second Nunber \"))\n",
    "\n",
    "print(a+b)\n",
    "print(a-b)\n",
    "print(a*b)"
   ]
  },
  {
   "cell_type": "markdown",
   "metadata": {},
   "source": [
    "**Task**\n",
    "Read two integers and print two lines. The first line should contain integer division,  // . The second line should contain float division,  / .\n",
    "\n",
    "You don't need to perform any rounding or formatting operations."
   ]
  },
  {
   "cell_type": "code",
   "execution_count": 15,
   "metadata": {},
   "outputs": [
    {
     "name": "stdout",
     "output_type": "stream",
     "text": [
      "Enter the first Number 4\n",
      "Enter the seccond Number 3\n",
      "1\n",
      "1.3333333333333333\n"
     ]
    }
   ],
   "source": [
    "a = int(input(\"Enter the first Number \"))\n",
    "b = int(input(\"Enter the seccond Number \"))\n",
    "print(a//b)\n",
    "print(a/b)"
   ]
  },
  {
   "cell_type": "markdown",
   "metadata": {},
   "source": [
    "Read an integer $N$. For all non-negative integers $i$<$N$ , print $i^2$ . See the sample for details.\n",
    "\n"
   ]
  },
  {
   "cell_type": "code",
   "execution_count": 18,
   "metadata": {},
   "outputs": [
    {
     "name": "stdout",
     "output_type": "stream",
     "text": [
      "Enter the number N 5\n",
      "0\n",
      "1\n",
      "4\n",
      "9\n",
      "16\n"
     ]
    }
   ],
   "source": [
    "n = int(input(\"Enter the number N \"))\n",
    "for i in range(n):\n",
    "    print(i**2)"
   ]
  },
  {
   "cell_type": "code",
   "execution_count": 24,
   "metadata": {},
   "outputs": [
    {
     "name": "stdout",
     "output_type": "stream",
     "text": [
      "Enter the Year 2100\n"
     ]
    }
   ],
   "source": [
    "def is_leap(year):\n",
    "    if(year%4==0 and year%100!=0 or year%400==0):\n",
    "        leap = True\n",
    "    else:\n",
    "        leap=False\n",
    "    \n",
    "    \n",
    "    return leap\n",
    "\n",
    "year = int(input(\"Enter the Year \"))"
   ]
  },
  {
   "cell_type": "code",
   "execution_count": 26,
   "metadata": {},
   "outputs": [
    {
     "name": "stdout",
     "output_type": "stream",
     "text": [
      "False\n"
     ]
    }
   ],
   "source": [
    "print(is_leap(2100))"
   ]
  },
  {
   "cell_type": "markdown",
   "metadata": {},
   "source": [
    "Read an integer $N$.\n",
    "\n",
    "Without using any string methods, try to print the following:\n",
    "$123...N$\n",
    "\n",
    "Note that \"$...$\" represents the values in between."
   ]
  },
  {
   "cell_type": "code",
   "execution_count": 21,
   "metadata": {},
   "outputs": [
    {
     "name": "stdout",
     "output_type": "stream",
     "text": [
      "Enter Number 5\n",
      "12345"
     ]
    }
   ],
   "source": [
    "n = int(input(\"Enter Number \"))\n",
    "for i in range(1,n+1):\n",
    "    print(i, end = '')\n",
    "\n"
   ]
  }
 ],
 "metadata": {
  "kernelspec": {
   "display_name": "Python 3",
   "language": "python",
   "name": "python3"
  },
  "language_info": {
   "codemirror_mode": {
    "name": "ipython",
    "version": 3
   },
   "file_extension": ".py",
   "mimetype": "text/x-python",
   "name": "python",
   "nbconvert_exporter": "python",
   "pygments_lexer": "ipython3",
   "version": "3.7.4"
  }
 },
 "nbformat": 4,
 "nbformat_minor": 2
}
